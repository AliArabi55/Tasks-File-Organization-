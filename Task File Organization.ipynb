{
  "nbformat": 4,
  "nbformat_minor": 0,
  "metadata": {
    "colab": {
      "provenance": [],
      "authorship_tag": "ABX9TyMQTiBuSALssZOo1HyExAq9",
      "include_colab_link": true
    },
    "kernelspec": {
      "name": "python3",
      "display_name": "Python 3"
    },
    "language_info": {
      "name": "python"
    }
  },
  "cells": [
    {
      "cell_type": "markdown",
      "metadata": {
        "id": "view-in-github",
        "colab_type": "text"
      },
      "source": [
        "<a href=\"https://colab.research.google.com/github/AliArabi55/Tasks-File-Organization-/blob/main/Task%20File%20Organization.ipynb\" target=\"_parent\"><img src=\"https://colab.research.google.com/assets/colab-badge.svg\" alt=\"Open In Colab\"/></a>"
      ]
    },
    {
      "source": [
        "import csv\n",
        "import os\n",
        "\n",
        "FILE_NAME = \"data.csv\"\n",
        "DELIMITER = \"#\"  # الفاصل بين الحقول\n",
        "\n",
        "def create_file():\n",
        "    \"\"\"Creates the CSV file with initial data if it does not exist.\"\"\"\n",
        "    if not os.path.exists(FILE_NAME):\n",
        "        with open(FILE_NAME, \"w\", newline=\"\") as file:\n",
        "            writer = csv.writer(file, delimiter=DELIMITER)\n",
        "            writer.writerow([\"Name\", \"Age\", \"Weight\", \"Address\"])  # Headers\n",
        "            writer.writerow([\"Ali\", \"25\", \"70\", \"Cairo\"])\n",
        "            writer.writerow([\"Omar\", \"30\", \"80\", \"Alexandria\"])\n",
        "            writer.writerow([\"Sara\", \"22\", \"55\", \"Giza\"])\n",
        "        print(\"✅ File created successfully with initial data.\")\n",
        "\n",
        "# Call the function to create the file\n",
        "create_file()\n",
        "\n",
        "def read_csv(formatted=True):\n",
        "    \"\"\"Reads and prints data from CSV file in a formatted way.\"\"\"\n",
        "    with open(FILE_NAME, \"r\") as file:\n",
        "        reader = csv.reader(file, delimiter=DELIMITER)\n",
        "        data = list(reader)\n",
        "\n",
        "    if formatted:\n",
        "        for row in data:\n",
        "            print(\" \".join(row))  # عرض البيانات بدون الفاصل #\n",
        "    else:\n",
        "        for row in data:\n",
        "            print(DELIMITER.join(row))  # عرض البيانات مع الفاصل #\n",
        "\n",
        "# عرض البيانات بعد الإنشاء\n",
        "print(\"\\n📌 Data without '#' separator (Formatted):\")\n",
        "read_csv(formatted=True)\n",
        "\n"
      ],
      "cell_type": "code",
      "metadata": {
        "colab": {
          "base_uri": "https://localhost:8080/"
        },
        "id": "AY1qYmhTJblz",
        "outputId": "59cbf534-c4c9-4948-c906-51d28fa0830a"
      },
      "execution_count": 11,
      "outputs": [
        {
          "output_type": "stream",
          "name": "stdout",
          "text": [
            "\n",
            "📌 Data without '#' separator (Formatted):\n",
            "Name Age Weight Address\n",
            "Ali 25 70 Cairo\n",
            "Omar 30 80 Alexandria\n",
            "Sara 22 55 Giza\n",
            "/خنش 33 33 بيسييبيس\n"
          ]
        }
      ]
    },
    {
      "cell_type": "code",
      "source": [
        "def add_record():\n",
        "    \"\"\"Adds a new record based on user input.\"\"\"\n",
        "    name = input(\"Enter Name: \").strip()\n",
        "    age = input(\"Enter Age: \").strip()\n",
        "    weight = input(\"Enter Weight: \").strip()\n",
        "    address = input(\"Enter Address: \").strip()\n",
        "\n",
        "    if not name or not age or not weight or not address:\n",
        "        print(\"⚠️ Please fill all fields!\")\n",
        "        return\n",
        "\n",
        "    with open(FILE_NAME, \"a\", newline=\"\") as file:\n",
        "        writer = csv.writer(file, delimiter=DELIMITER)\n",
        "        writer.writerow([name, age, weight, address])\n",
        "\n",
        "    print(f\"✅ Record for '{name}' added successfully!\")\n",
        "\n",
        "# إضافة سجل جديد\n",
        "add_record()"
      ],
      "metadata": {
        "colab": {
          "base_uri": "https://localhost:8080/"
        },
        "id": "ZFlgOsl_Jifr",
        "outputId": "af5d2435-64dd-45bc-c832-695a515035da"
      },
      "execution_count": 12,
      "outputs": [
        {
          "output_type": "stream",
          "name": "stdout",
          "text": [
            "Enter Name: ASjjjjdd\n",
            "Enter Age: 15\n",
            "Enter Weight: 55\n",
            "Enter Address: Reda\n",
            "✅ Record for 'ASjjjjdd' added successfully!\n"
          ]
        }
      ]
    },
    {
      "cell_type": "code",
      "source": [
        "# عرض البيانات بعد الإضافة\n",
        "print(\"\\n📌 Updated Data:\")\n",
        "read_csv(formatted=True) # تم تغيير 'separate=True' إلى 'formatted=True'"
      ],
      "metadata": {
        "colab": {
          "base_uri": "https://localhost:8080/"
        },
        "id": "PS52_1SRKD2z",
        "outputId": "6cca8b0d-1d12-4df2-c564-c59b91ec4bf7"
      },
      "execution_count": 13,
      "outputs": [
        {
          "output_type": "stream",
          "name": "stdout",
          "text": [
            "\n",
            "📌 Updated Data:\n",
            "Name Age Weight Address\n",
            "Ali 25 70 Cairo\n",
            "Omar 30 80 Alexandria\n",
            "Sara 22 55 Giza\n",
            "/خنش 33 33 بيسييبيس\n",
            "ASjjjjdd 15 55 Reda\n"
          ]
        }
      ]
    },
    {
      "source": [
        "def delete_record():\n",
        "    \"\"\"Deletes a record based on user input.\"\"\"\n",
        "    name_to_delete = input(\"Enter Name to Delete: \").strip()\n",
        "\n",
        "    if not name_to_delete:\n",
        "        print(\"⚠️ Please enter a name!\")\n",
        "        return\n",
        "\n",
        "    with open(FILE_NAME, \"r\") as file:\n",
        "        reader = csv.reader(file, delimiter=DELIMITER)\n",
        "        data = list(reader)\n",
        "\n",
        "    updated_records = [data[0]]  # Keep headers\n",
        "    deleted = False\n",
        "\n",
        "    for row in data[1:]:  # Skip headers\n",
        "        if row[0] == name_to_delete:\n",
        "            deleted = True\n",
        "        else:\n",
        "            updated_records.append(row)\n",
        "\n",
        "    if deleted:\n",
        "        with open(FILE_NAME, \"w\", newline=\"\") as file:\n",
        "            writer = csv.writer(file, delimiter=DELIMITER)\n",
        "            writer.writerows(updated_records)\n",
        "        print(f\"✅ Record for '{name_to_delete}' deleted successfully!\")\n",
        "    else:\n",
        "        print(f\"❌ No record found for '{name_to_delete}'.\")\n",
        "\n",
        "# حذف سجل معين\n",
        "delete_record()"
      ],
      "cell_type": "code",
      "metadata": {
        "colab": {
          "base_uri": "https://localhost:8080/"
        },
        "id": "wzyeRqGeJ2_z",
        "outputId": "513a1067-84ec-4b57-fd4c-800810f12989"
      },
      "execution_count": 14,
      "outputs": [
        {
          "output_type": "stream",
          "name": "stdout",
          "text": [
            "Enter Name to Delete: ASjjjjdd \n",
            "✅ Record for 'ASjjjjdd' deleted successfully!\n"
          ]
        }
      ]
    },
    {
      "cell_type": "code",
      "source": [
        "# عرض البيانات بعد الحذف\n",
        "print(\"\\n📌 Updated Data after Deletion:\")\n",
        "read_csv(formatted=True) # Changed 'separate=True' to 'formatted=True' to match the function definition"
      ],
      "metadata": {
        "colab": {
          "base_uri": "https://localhost:8080/"
        },
        "id": "j02tsSwoKGn7",
        "outputId": "eb30d18f-c1f7-44c5-f4d5-2f2cd39428f8"
      },
      "execution_count": 15,
      "outputs": [
        {
          "output_type": "stream",
          "name": "stdout",
          "text": [
            "\n",
            "📌 Updated Data after Deletion:\n",
            "Name Age Weight Address\n",
            "Ali 25 70 Cairo\n",
            "Omar 30 80 Alexandria\n",
            "Sara 22 55 Giza\n",
            "/خنش 33 33 بيسييبيس\n"
          ]
        }
      ]
    }
  ]
}